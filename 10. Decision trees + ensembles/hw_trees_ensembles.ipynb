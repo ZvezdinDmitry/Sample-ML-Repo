{
 "cells": [
  {
   "cell_type": "markdown",
   "metadata": {
    "id": "EADmNKm_ucFI"
   },
   "source": [
    "## Homework"
   ]
  },
  {
   "cell_type": "code",
   "execution_count": 2,
   "metadata": {
    "id": "wjurpt4KJmCh"
   },
   "outputs": [
    {
     "name": "stdout",
     "output_type": "stream",
     "text": [
      "--2022-05-08 15:58:51--  https://docs.google.com/uc?export=download&id=1OKFSv2GpuUFDphO0r8LdM7bl6MAWwBfX\n",
      "Resolving docs.google.com (docs.google.com)... 108.177.14.194, 2a00:1450:4010:c0f::c2\n",
      "Connecting to docs.google.com (docs.google.com)|108.177.14.194|:443... connected.\n",
      "HTTP request sent, awaiting response... 303 See Other\n",
      "Location: https://doc-04-ak-docs.googleusercontent.com/docs/securesc/ha0ro937gcuc7l7deffksulhg5h7mbp1/v4c3mkouamn14audi6fca7o2l73i9d2o/1652014725000/03856158561714992485/*/1OKFSv2GpuUFDphO0r8LdM7bl6MAWwBfX?e=download [following]\n",
      "Warning: wildcards not supported in HTTP.\n",
      "--2022-05-08 15:58:52--  https://doc-04-ak-docs.googleusercontent.com/docs/securesc/ha0ro937gcuc7l7deffksulhg5h7mbp1/v4c3mkouamn14audi6fca7o2l73i9d2o/1652014725000/03856158561714992485/*/1OKFSv2GpuUFDphO0r8LdM7bl6MAWwBfX?e=download\n",
      "Resolving doc-04-ak-docs.googleusercontent.com (doc-04-ak-docs.googleusercontent.com)... 173.194.222.132, 2a00:1450:4010:c0b::84\n",
      "Connecting to doc-04-ak-docs.googleusercontent.com (doc-04-ak-docs.googleusercontent.com)|173.194.222.132|:443... connected.\n",
      "HTTP request sent, awaiting response... 200 OK\n",
      "Length: 33322228 (32M) [text/csv]\n",
      "Saving to: ‘data.csv’\n",
      "\n",
      "data.csv            100%[===================>]  31,78M  1,11MB/s    in 35s     \n",
      "\n",
      "2022-05-08 15:59:27 (939 KB/s) - ‘data.csv’ saved [33322228/33322228]\n",
      "\n"
     ]
    }
   ],
   "source": [
    "!wget --no-check-certificate 'https://docs.google.com/uc?export=download&id=1OKFSv2GpuUFDphO0r8LdM7bl6MAWwBfX' -O data.csv"
   ]
  },
  {
   "cell_type": "markdown",
   "metadata": {
    "id": "UBAI5LS2xBSm"
   },
   "source": [
    "В этой домашней работе вы будете предсказывать стоимость домов по их характеристикам.\n",
    "\n",
    "Метрика качества: `RMSE`\n",
    "\n",
    "Оценивание:\n",
    "* Baseline - 2 балла\n",
    "* Feature Engineering - 2 балла\n",
    "* Model Selection - 3 балла\n",
    "* Ensemble v.1 - 3 балла\n",
    "* (*) Ensemble v.2 - дополнительно, 2 балла"
   ]
  },
  {
   "cell_type": "markdown",
   "metadata": {
    "id": "aBZhr_dw6HAn"
   },
   "source": [
    "### Описание датасета\n",
    "\n",
    "Короткое описание данных:\n",
    "```\n",
    "price: sale price (this is the target variable)\n",
    "id: transaction id\n",
    "timestamp: date of transaction\n",
    "full_sq: total area in square meters, including loggias, balconies and other non-residential areas\n",
    "life_sq: living area in square meters, excluding loggias, balconies and other non-residential areas\n",
    "floor: for apartments, floor of the building\n",
    "max_floor: number of floors in the building\n",
    "material: wall material\n",
    "build_year: year built\n",
    "num_room: number of living rooms\n",
    "kitch_sq: kitchen area\n",
    "state: apartment condition\n",
    "product_type: owner-occupier purchase or investment\n",
    "sub_area: name of the district\n",
    "\n",
    "The dataset also includes a collection of features about each property's surrounding neighbourhood, and some features that are constant across each sub area (known as a Raion). Most of the feature names are self explanatory, with the following notes. See below for a complete list.\n",
    "\n",
    "full_all: subarea population\n",
    "male_f, female_f: subarea population by gender\n",
    "young_*: population younger than working age\n",
    "work_*: working-age population\n",
    "ekder_*: retirement-age population\n",
    "n_m_{all|male|female}: population between n and m years old\n",
    "build_count_*: buildings in the subarea by construction type or year\n",
    "x_count_500: the number of x within 500m of the property\n",
    "x_part_500: the share of x within 500m of the property\n",
    "_sqm_: square meters\n",
    "cafe_count_d_price_p: number of cafes within d meters of the property that have an average bill under p RUB\n",
    "trc_: shopping malls\n",
    "prom_: industrial zones\n",
    "green_: green zones\n",
    "metro_: subway\n",
    "_avto_: distances by car\n",
    "mkad_: Moscow Circle Auto Road\n",
    "ttk_: Third Transport Ring\n",
    "sadovoe_: Garden Ring\n",
    "bulvar_ring_: Boulevard Ring\n",
    "kremlin_: City center\n",
    "zd_vokzaly_: Train station\n",
    "oil_chemistry_: Dirty industry\n",
    "ts_: Power plant\n",
    "```"
   ]
  },
  {
   "cell_type": "markdown",
   "metadata": {
    "id": "TOPtM_06uyqv"
   },
   "source": [
    "### Setup"
   ]
  },
  {
   "cell_type": "code",
   "execution_count": 1,
   "metadata": {
    "id": "9TpHMcn3u0MV"
   },
   "outputs": [],
   "source": [
    "import pandas as pd\n",
    "import numpy as np\n",
    "from sklearn.model_selection import train_test_split, GridSearchCV\n",
    "from sklearn.metrics import mean_squared_error\n",
    "from sklearn.impute import SimpleImputer"
   ]
  },
  {
   "cell_type": "code",
   "execution_count": 2,
   "metadata": {
    "id": "-TLkVG3EwJzj"
   },
   "outputs": [],
   "source": [
    "df = pd.read_csv(\"data.csv\", parse_dates=[\"timestamp\"])"
   ]
  },
  {
   "cell_type": "code",
   "execution_count": 3,
   "metadata": {},
   "outputs": [
    {
     "data": {
      "text/html": [
       "<div>\n",
       "<style scoped>\n",
       "    .dataframe tbody tr th:only-of-type {\n",
       "        vertical-align: middle;\n",
       "    }\n",
       "\n",
       "    .dataframe tbody tr th {\n",
       "        vertical-align: top;\n",
       "    }\n",
       "\n",
       "    .dataframe thead th {\n",
       "        text-align: right;\n",
       "    }\n",
       "</style>\n",
       "<table border=\"1\" class=\"dataframe\">\n",
       "  <thead>\n",
       "    <tr style=\"text-align: right;\">\n",
       "      <th></th>\n",
       "      <th>id</th>\n",
       "      <th>timestamp</th>\n",
       "      <th>full_sq</th>\n",
       "      <th>life_sq</th>\n",
       "      <th>floor</th>\n",
       "      <th>max_floor</th>\n",
       "      <th>material</th>\n",
       "      <th>build_year</th>\n",
       "      <th>num_room</th>\n",
       "      <th>kitch_sq</th>\n",
       "      <th>...</th>\n",
       "      <th>cafe_count_5000_price_2500</th>\n",
       "      <th>cafe_count_5000_price_4000</th>\n",
       "      <th>cafe_count_5000_price_high</th>\n",
       "      <th>big_church_count_5000</th>\n",
       "      <th>church_count_5000</th>\n",
       "      <th>mosque_count_5000</th>\n",
       "      <th>leisure_count_5000</th>\n",
       "      <th>sport_count_5000</th>\n",
       "      <th>market_count_5000</th>\n",
       "      <th>price</th>\n",
       "    </tr>\n",
       "  </thead>\n",
       "  <tbody>\n",
       "    <tr>\n",
       "      <th>0</th>\n",
       "      <td>0</td>\n",
       "      <td>2014-12-26</td>\n",
       "      <td>1</td>\n",
       "      <td>1.0</td>\n",
       "      <td>1.0</td>\n",
       "      <td>1.0</td>\n",
       "      <td>1.0</td>\n",
       "      <td>1.0</td>\n",
       "      <td>1.0</td>\n",
       "      <td>1.0</td>\n",
       "      <td>...</td>\n",
       "      <td>36</td>\n",
       "      <td>7</td>\n",
       "      <td>2</td>\n",
       "      <td>15</td>\n",
       "      <td>33</td>\n",
       "      <td>1</td>\n",
       "      <td>12</td>\n",
       "      <td>75</td>\n",
       "      <td>10</td>\n",
       "      <td>15318960</td>\n",
       "    </tr>\n",
       "    <tr>\n",
       "      <th>1</th>\n",
       "      <td>1</td>\n",
       "      <td>2012-10-04</td>\n",
       "      <td>64</td>\n",
       "      <td>64.0</td>\n",
       "      <td>16.0</td>\n",
       "      <td>NaN</td>\n",
       "      <td>NaN</td>\n",
       "      <td>NaN</td>\n",
       "      <td>NaN</td>\n",
       "      <td>NaN</td>\n",
       "      <td>...</td>\n",
       "      <td>2</td>\n",
       "      <td>2</td>\n",
       "      <td>0</td>\n",
       "      <td>0</td>\n",
       "      <td>13</td>\n",
       "      <td>1</td>\n",
       "      <td>0</td>\n",
       "      <td>6</td>\n",
       "      <td>1</td>\n",
       "      <td>6080000</td>\n",
       "    </tr>\n",
       "    <tr>\n",
       "      <th>2</th>\n",
       "      <td>2</td>\n",
       "      <td>2014-02-05</td>\n",
       "      <td>83</td>\n",
       "      <td>44.0</td>\n",
       "      <td>9.0</td>\n",
       "      <td>17.0</td>\n",
       "      <td>1.0</td>\n",
       "      <td>1985.0</td>\n",
       "      <td>3.0</td>\n",
       "      <td>10.0</td>\n",
       "      <td>...</td>\n",
       "      <td>13</td>\n",
       "      <td>6</td>\n",
       "      <td>1</td>\n",
       "      <td>8</td>\n",
       "      <td>18</td>\n",
       "      <td>0</td>\n",
       "      <td>1</td>\n",
       "      <td>52</td>\n",
       "      <td>0</td>\n",
       "      <td>17000000</td>\n",
       "    </tr>\n",
       "    <tr>\n",
       "      <th>3</th>\n",
       "      <td>3</td>\n",
       "      <td>2012-07-26</td>\n",
       "      <td>71</td>\n",
       "      <td>49.0</td>\n",
       "      <td>2.0</td>\n",
       "      <td>NaN</td>\n",
       "      <td>NaN</td>\n",
       "      <td>NaN</td>\n",
       "      <td>NaN</td>\n",
       "      <td>NaN</td>\n",
       "      <td>...</td>\n",
       "      <td>0</td>\n",
       "      <td>0</td>\n",
       "      <td>0</td>\n",
       "      <td>1</td>\n",
       "      <td>3</td>\n",
       "      <td>0</td>\n",
       "      <td>2</td>\n",
       "      <td>8</td>\n",
       "      <td>2</td>\n",
       "      <td>990000</td>\n",
       "    </tr>\n",
       "    <tr>\n",
       "      <th>4</th>\n",
       "      <td>4</td>\n",
       "      <td>2014-10-29</td>\n",
       "      <td>60</td>\n",
       "      <td>42.0</td>\n",
       "      <td>9.0</td>\n",
       "      <td>9.0</td>\n",
       "      <td>1.0</td>\n",
       "      <td>1970.0</td>\n",
       "      <td>3.0</td>\n",
       "      <td>6.0</td>\n",
       "      <td>...</td>\n",
       "      <td>3</td>\n",
       "      <td>1</td>\n",
       "      <td>0</td>\n",
       "      <td>5</td>\n",
       "      <td>8</td>\n",
       "      <td>0</td>\n",
       "      <td>1</td>\n",
       "      <td>34</td>\n",
       "      <td>5</td>\n",
       "      <td>7900000</td>\n",
       "    </tr>\n",
       "  </tbody>\n",
       "</table>\n",
       "<p>5 rows × 292 columns</p>\n",
       "</div>"
      ],
      "text/plain": [
       "   id  timestamp  full_sq  life_sq  floor  max_floor  material  build_year  \\\n",
       "0   0 2014-12-26        1      1.0    1.0        1.0       1.0         1.0   \n",
       "1   1 2012-10-04       64     64.0   16.0        NaN       NaN         NaN   \n",
       "2   2 2014-02-05       83     44.0    9.0       17.0       1.0      1985.0   \n",
       "3   3 2012-07-26       71     49.0    2.0        NaN       NaN         NaN   \n",
       "4   4 2014-10-29       60     42.0    9.0        9.0       1.0      1970.0   \n",
       "\n",
       "   num_room  kitch_sq  ...  cafe_count_5000_price_2500  \\\n",
       "0       1.0       1.0  ...                          36   \n",
       "1       NaN       NaN  ...                           2   \n",
       "2       3.0      10.0  ...                          13   \n",
       "3       NaN       NaN  ...                           0   \n",
       "4       3.0       6.0  ...                           3   \n",
       "\n",
       "  cafe_count_5000_price_4000 cafe_count_5000_price_high  \\\n",
       "0                          7                          2   \n",
       "1                          2                          0   \n",
       "2                          6                          1   \n",
       "3                          0                          0   \n",
       "4                          1                          0   \n",
       "\n",
       "   big_church_count_5000  church_count_5000  mosque_count_5000  \\\n",
       "0                     15                 33                  1   \n",
       "1                      0                 13                  1   \n",
       "2                      8                 18                  0   \n",
       "3                      1                  3                  0   \n",
       "4                      5                  8                  0   \n",
       "\n",
       "   leisure_count_5000  sport_count_5000  market_count_5000     price  \n",
       "0                  12                75                 10  15318960  \n",
       "1                   0                 6                  1   6080000  \n",
       "2                   1                52                  0  17000000  \n",
       "3                   2                 8                  2    990000  \n",
       "4                   1                34                  5   7900000  \n",
       "\n",
       "[5 rows x 292 columns]"
      ]
     },
     "execution_count": 3,
     "metadata": {},
     "output_type": "execute_result"
    }
   ],
   "source": [
    "df.head()"
   ]
  },
  {
   "cell_type": "code",
   "execution_count": 4,
   "metadata": {},
   "outputs": [
    {
     "name": "stdout",
     "output_type": "stream",
     "text": [
      "<class 'pandas.core.frame.DataFrame'>\n",
      "RangeIndex: 20000 entries, 0 to 19999\n",
      "Columns: 292 entries, id to price\n",
      "dtypes: datetime64[ns](1), float64(119), int64(157), object(15)\n",
      "memory usage: 44.6+ MB\n",
      "None\n"
     ]
    }
   ],
   "source": [
    "print(df.info())"
   ]
  },
  {
   "cell_type": "markdown",
   "metadata": {
    "id": "znjwH9_mx3fZ"
   },
   "source": [
    "Разделите имеющиеся у вас данные на обучающую и тестовую выборки. В качестве обучающей выборки возьмите первые 80% данных, последние 20% - тестовая выборка."
   ]
  },
  {
   "cell_type": "code",
   "execution_count": 5,
   "metadata": {
    "id": "hwfNR565wMKN"
   },
   "outputs": [
    {
     "name": "stdout",
     "output_type": "stream",
     "text": [
      "Index(['id', 'timestamp', 'full_sq', 'life_sq', 'floor', 'max_floor',\n",
      "       'material', 'build_year', 'num_room', 'kitch_sq',\n",
      "       ...\n",
      "       'cafe_count_5000_price_2500', 'cafe_count_5000_price_4000',\n",
      "       'cafe_count_5000_price_high', 'big_church_count_5000',\n",
      "       'church_count_5000', 'mosque_count_5000', 'leisure_count_5000',\n",
      "       'sport_count_5000', 'market_count_5000', 'price'],\n",
      "      dtype='object', length=292)\n"
     ]
    }
   ],
   "source": [
    "print(df.columns)"
   ]
  },
  {
   "cell_type": "markdown",
   "metadata": {
    "id": "pL4dJJwZP86w"
   },
   "source": [
    "Возможно в ваших моделях вам придется указывать, какие колонки являются категориальными (например, в бустингах). Для упрощения предлагается разделить колонки по следующему принципу:\n",
    "```\n",
    "drop_columns = [\n",
    "    'id',           # May leak information\n",
    "    'timestamp',    # May leak information\n",
    "]\n",
    "cat_columns = [\n",
    "    'product_type',              #\n",
    "    'material',                  # Material of the wall\n",
    "    'state',                     # Satisfaction level\n",
    "    'sub_area',                  # District name\n",
    "    'culture_objects_top_25',    #\n",
    "    'thermal_power_plant_raion', #\n",
    "    'incineration_raion',        #\n",
    "    'oil_chemistry_raion',       #\n",
    "    'radiation_raion',           #\n",
    "    'railroad_terminal_raion',   #\n",
    "    'big_market_raion',          #\n",
    "    'nuclear_reactor_raion',     #\n",
    "    'detention_facility_raion',  #\n",
    "    'ID_metro',                  #\n",
    "    'ID_railroad_station_walk',  #\n",
    "    'ID_railroad_station_avto',  #\n",
    "    'water_1line',               #\n",
    "    'ID_big_road1',              #\n",
    "    'big_road1_1line',           #\n",
    "    'ID_big_road2',              #\n",
    "    'railroad_1line',            #\n",
    "    'ID_railroad_terminal',      #\n",
    "    'ID_bus_terminal',           #\n",
    "    'ecology',                   #\n",
    "]\n",
    "num_columns = list(set(df.columns).difference(set(cat_columns + drop_columns)))\n",
    "```"
   ]
  },
  {
   "cell_type": "markdown",
   "metadata": {},
   "source": [
    "Выкинем пока колонки id и timestamp"
   ]
  },
  {
   "cell_type": "code",
   "execution_count": 6,
   "metadata": {},
   "outputs": [],
   "source": [
    "df_dropped = df.drop(columns=[\"id\", \"timestamp\"])"
   ]
  },
  {
   "cell_type": "code",
   "execution_count": 7,
   "metadata": {},
   "outputs": [],
   "source": [
    "cat_columns = [\n",
    "    'product_type',              #\n",
    "    'material',                  # Material of the wall\n",
    "    'state',                     # Satisfaction level\n",
    "    'sub_area',                  # District name\n",
    "    'culture_objects_top_25',    #\n",
    "    'thermal_power_plant_raion', #\n",
    "    'incineration_raion',        #\n",
    "    'oil_chemistry_raion',       #\n",
    "    'radiation_raion',           #\n",
    "    'railroad_terminal_raion',   #\n",
    "    'big_market_raion',          #\n",
    "    'nuclear_reactor_raion',     #\n",
    "    'detention_facility_raion',  #\n",
    "    'ID_metro',                  #\n",
    "    'ID_railroad_station_walk',  #\n",
    "    'ID_railroad_station_avto',  #\n",
    "    'water_1line',               #\n",
    "    'ID_big_road1',              #\n",
    "    'big_road1_1line',           #\n",
    "    'ID_big_road2',              #\n",
    "    'railroad_1line',            #\n",
    "    'ID_railroad_terminal',      #\n",
    "    'ID_bus_terminal',           #\n",
    "    'ecology']\n",
    "num_columns = list(set(df_dropped.columns).difference(set(cat_columns)))"
   ]
  },
  {
   "cell_type": "markdown",
   "metadata": {},
   "source": [
    "Заполним пропуски в чиcловых признаках средним, а в категориальных - самым частым."
   ]
  },
  {
   "cell_type": "code",
   "execution_count": 8,
   "metadata": {},
   "outputs": [],
   "source": [
    "df_filled = pd.DataFrame(df_dropped, copy=True)\n",
    "df_filled[num_columns] = SimpleImputer(strategy=\"mean\").fit_transform(df_dropped[num_columns])\n",
    "df_filled[cat_columns] = SimpleImputer(strategy=\"most_frequent\").fit_transform(df_dropped[cat_columns])"
   ]
  },
  {
   "cell_type": "code",
   "execution_count": 9,
   "metadata": {},
   "outputs": [
    {
     "data": {
      "text/html": [
       "<div>\n",
       "<style scoped>\n",
       "    .dataframe tbody tr th:only-of-type {\n",
       "        vertical-align: middle;\n",
       "    }\n",
       "\n",
       "    .dataframe tbody tr th {\n",
       "        vertical-align: top;\n",
       "    }\n",
       "\n",
       "    .dataframe thead th {\n",
       "        text-align: right;\n",
       "    }\n",
       "</style>\n",
       "<table border=\"1\" class=\"dataframe\">\n",
       "  <thead>\n",
       "    <tr style=\"text-align: right;\">\n",
       "      <th></th>\n",
       "      <th>full_sq</th>\n",
       "      <th>life_sq</th>\n",
       "      <th>floor</th>\n",
       "      <th>max_floor</th>\n",
       "      <th>material</th>\n",
       "      <th>build_year</th>\n",
       "      <th>num_room</th>\n",
       "      <th>kitch_sq</th>\n",
       "      <th>state</th>\n",
       "      <th>product_type</th>\n",
       "      <th>...</th>\n",
       "      <th>cafe_count_5000_price_2500</th>\n",
       "      <th>cafe_count_5000_price_4000</th>\n",
       "      <th>cafe_count_5000_price_high</th>\n",
       "      <th>big_church_count_5000</th>\n",
       "      <th>church_count_5000</th>\n",
       "      <th>mosque_count_5000</th>\n",
       "      <th>leisure_count_5000</th>\n",
       "      <th>sport_count_5000</th>\n",
       "      <th>market_count_5000</th>\n",
       "      <th>price</th>\n",
       "    </tr>\n",
       "  </thead>\n",
       "  <tbody>\n",
       "    <tr>\n",
       "      <th>0</th>\n",
       "      <td>1.0</td>\n",
       "      <td>1.000000</td>\n",
       "      <td>1.0</td>\n",
       "      <td>1.000000</td>\n",
       "      <td>1.0</td>\n",
       "      <td>1.000000</td>\n",
       "      <td>1.00000</td>\n",
       "      <td>1.000000</td>\n",
       "      <td>1.0</td>\n",
       "      <td>OwnerOccupier</td>\n",
       "      <td>...</td>\n",
       "      <td>36.0</td>\n",
       "      <td>7.0</td>\n",
       "      <td>2.0</td>\n",
       "      <td>15.0</td>\n",
       "      <td>33.0</td>\n",
       "      <td>1.0</td>\n",
       "      <td>12.0</td>\n",
       "      <td>75.0</td>\n",
       "      <td>10.0</td>\n",
       "      <td>15318960.0</td>\n",
       "    </tr>\n",
       "    <tr>\n",
       "      <th>1</th>\n",
       "      <td>64.0</td>\n",
       "      <td>64.000000</td>\n",
       "      <td>16.0</td>\n",
       "      <td>12.603928</td>\n",
       "      <td>1.0</td>\n",
       "      <td>3687.417575</td>\n",
       "      <td>1.91071</td>\n",
       "      <td>6.454917</td>\n",
       "      <td>2.0</td>\n",
       "      <td>OwnerOccupier</td>\n",
       "      <td>...</td>\n",
       "      <td>2.0</td>\n",
       "      <td>2.0</td>\n",
       "      <td>0.0</td>\n",
       "      <td>0.0</td>\n",
       "      <td>13.0</td>\n",
       "      <td>1.0</td>\n",
       "      <td>0.0</td>\n",
       "      <td>6.0</td>\n",
       "      <td>1.0</td>\n",
       "      <td>6080000.0</td>\n",
       "    </tr>\n",
       "    <tr>\n",
       "      <th>2</th>\n",
       "      <td>83.0</td>\n",
       "      <td>44.000000</td>\n",
       "      <td>9.0</td>\n",
       "      <td>17.000000</td>\n",
       "      <td>1.0</td>\n",
       "      <td>1985.000000</td>\n",
       "      <td>3.00000</td>\n",
       "      <td>10.000000</td>\n",
       "      <td>3.0</td>\n",
       "      <td>Investment</td>\n",
       "      <td>...</td>\n",
       "      <td>13.0</td>\n",
       "      <td>6.0</td>\n",
       "      <td>1.0</td>\n",
       "      <td>8.0</td>\n",
       "      <td>18.0</td>\n",
       "      <td>0.0</td>\n",
       "      <td>1.0</td>\n",
       "      <td>52.0</td>\n",
       "      <td>0.0</td>\n",
       "      <td>17000000.0</td>\n",
       "    </tr>\n",
       "    <tr>\n",
       "      <th>3</th>\n",
       "      <td>71.0</td>\n",
       "      <td>49.000000</td>\n",
       "      <td>2.0</td>\n",
       "      <td>12.603928</td>\n",
       "      <td>1.0</td>\n",
       "      <td>3687.417575</td>\n",
       "      <td>1.91071</td>\n",
       "      <td>6.454917</td>\n",
       "      <td>2.0</td>\n",
       "      <td>Investment</td>\n",
       "      <td>...</td>\n",
       "      <td>0.0</td>\n",
       "      <td>0.0</td>\n",
       "      <td>0.0</td>\n",
       "      <td>1.0</td>\n",
       "      <td>3.0</td>\n",
       "      <td>0.0</td>\n",
       "      <td>2.0</td>\n",
       "      <td>8.0</td>\n",
       "      <td>2.0</td>\n",
       "      <td>990000.0</td>\n",
       "    </tr>\n",
       "    <tr>\n",
       "      <th>4</th>\n",
       "      <td>60.0</td>\n",
       "      <td>42.000000</td>\n",
       "      <td>9.0</td>\n",
       "      <td>9.000000</td>\n",
       "      <td>1.0</td>\n",
       "      <td>1970.000000</td>\n",
       "      <td>3.00000</td>\n",
       "      <td>6.000000</td>\n",
       "      <td>2.0</td>\n",
       "      <td>Investment</td>\n",
       "      <td>...</td>\n",
       "      <td>3.0</td>\n",
       "      <td>1.0</td>\n",
       "      <td>0.0</td>\n",
       "      <td>5.0</td>\n",
       "      <td>8.0</td>\n",
       "      <td>0.0</td>\n",
       "      <td>1.0</td>\n",
       "      <td>34.0</td>\n",
       "      <td>5.0</td>\n",
       "      <td>7900000.0</td>\n",
       "    </tr>\n",
       "    <tr>\n",
       "      <th>...</th>\n",
       "      <td>...</td>\n",
       "      <td>...</td>\n",
       "      <td>...</td>\n",
       "      <td>...</td>\n",
       "      <td>...</td>\n",
       "      <td>...</td>\n",
       "      <td>...</td>\n",
       "      <td>...</td>\n",
       "      <td>...</td>\n",
       "      <td>...</td>\n",
       "      <td>...</td>\n",
       "      <td>...</td>\n",
       "      <td>...</td>\n",
       "      <td>...</td>\n",
       "      <td>...</td>\n",
       "      <td>...</td>\n",
       "      <td>...</td>\n",
       "      <td>...</td>\n",
       "      <td>...</td>\n",
       "      <td>...</td>\n",
       "      <td>...</td>\n",
       "    </tr>\n",
       "    <tr>\n",
       "      <th>19995</th>\n",
       "      <td>45.0</td>\n",
       "      <td>27.000000</td>\n",
       "      <td>2.0</td>\n",
       "      <td>9.000000</td>\n",
       "      <td>1.0</td>\n",
       "      <td>1978.000000</td>\n",
       "      <td>2.00000</td>\n",
       "      <td>5.000000</td>\n",
       "      <td>2.0</td>\n",
       "      <td>Investment</td>\n",
       "      <td>...</td>\n",
       "      <td>9.0</td>\n",
       "      <td>0.0</td>\n",
       "      <td>0.0</td>\n",
       "      <td>6.0</td>\n",
       "      <td>29.0</td>\n",
       "      <td>0.0</td>\n",
       "      <td>1.0</td>\n",
       "      <td>46.0</td>\n",
       "      <td>10.0</td>\n",
       "      <td>7200000.0</td>\n",
       "    </tr>\n",
       "    <tr>\n",
       "      <th>19996</th>\n",
       "      <td>38.0</td>\n",
       "      <td>34.032333</td>\n",
       "      <td>4.0</td>\n",
       "      <td>17.000000</td>\n",
       "      <td>1.0</td>\n",
       "      <td>3687.417575</td>\n",
       "      <td>2.00000</td>\n",
       "      <td>1.000000</td>\n",
       "      <td>1.0</td>\n",
       "      <td>OwnerOccupier</td>\n",
       "      <td>...</td>\n",
       "      <td>2.0</td>\n",
       "      <td>2.0</td>\n",
       "      <td>0.0</td>\n",
       "      <td>1.0</td>\n",
       "      <td>12.0</td>\n",
       "      <td>1.0</td>\n",
       "      <td>0.0</td>\n",
       "      <td>8.0</td>\n",
       "      <td>0.0</td>\n",
       "      <td>3971520.0</td>\n",
       "    </tr>\n",
       "    <tr>\n",
       "      <th>19997</th>\n",
       "      <td>35.0</td>\n",
       "      <td>14.000000</td>\n",
       "      <td>9.0</td>\n",
       "      <td>22.000000</td>\n",
       "      <td>1.0</td>\n",
       "      <td>2001.000000</td>\n",
       "      <td>1.00000</td>\n",
       "      <td>10.000000</td>\n",
       "      <td>2.0</td>\n",
       "      <td>Investment</td>\n",
       "      <td>...</td>\n",
       "      <td>13.0</td>\n",
       "      <td>3.0</td>\n",
       "      <td>0.0</td>\n",
       "      <td>6.0</td>\n",
       "      <td>27.0</td>\n",
       "      <td>1.0</td>\n",
       "      <td>10.0</td>\n",
       "      <td>57.0</td>\n",
       "      <td>13.0</td>\n",
       "      <td>7200000.0</td>\n",
       "    </tr>\n",
       "    <tr>\n",
       "      <th>19998</th>\n",
       "      <td>51.0</td>\n",
       "      <td>30.000000</td>\n",
       "      <td>8.0</td>\n",
       "      <td>17.000000</td>\n",
       "      <td>1.0</td>\n",
       "      <td>2011.000000</td>\n",
       "      <td>2.00000</td>\n",
       "      <td>9.000000</td>\n",
       "      <td>2.0</td>\n",
       "      <td>Investment</td>\n",
       "      <td>...</td>\n",
       "      <td>1.0</td>\n",
       "      <td>0.0</td>\n",
       "      <td>0.0</td>\n",
       "      <td>0.0</td>\n",
       "      <td>7.0</td>\n",
       "      <td>0.0</td>\n",
       "      <td>0.0</td>\n",
       "      <td>3.0</td>\n",
       "      <td>0.0</td>\n",
       "      <td>3300000.0</td>\n",
       "    </tr>\n",
       "    <tr>\n",
       "      <th>19999</th>\n",
       "      <td>54.0</td>\n",
       "      <td>32.000000</td>\n",
       "      <td>9.0</td>\n",
       "      <td>12.603928</td>\n",
       "      <td>1.0</td>\n",
       "      <td>3687.417575</td>\n",
       "      <td>1.91071</td>\n",
       "      <td>6.454917</td>\n",
       "      <td>2.0</td>\n",
       "      <td>Investment</td>\n",
       "      <td>...</td>\n",
       "      <td>23.0</td>\n",
       "      <td>1.0</td>\n",
       "      <td>1.0</td>\n",
       "      <td>5.0</td>\n",
       "      <td>30.0</td>\n",
       "      <td>1.0</td>\n",
       "      <td>4.0</td>\n",
       "      <td>62.0</td>\n",
       "      <td>7.0</td>\n",
       "      <td>8700000.0</td>\n",
       "    </tr>\n",
       "  </tbody>\n",
       "</table>\n",
       "<p>20000 rows × 290 columns</p>\n",
       "</div>"
      ],
      "text/plain": [
       "       full_sq    life_sq  floor  max_floor material   build_year  num_room  \\\n",
       "0          1.0   1.000000    1.0   1.000000      1.0     1.000000   1.00000   \n",
       "1         64.0  64.000000   16.0  12.603928      1.0  3687.417575   1.91071   \n",
       "2         83.0  44.000000    9.0  17.000000      1.0  1985.000000   3.00000   \n",
       "3         71.0  49.000000    2.0  12.603928      1.0  3687.417575   1.91071   \n",
       "4         60.0  42.000000    9.0   9.000000      1.0  1970.000000   3.00000   \n",
       "...        ...        ...    ...        ...      ...          ...       ...   \n",
       "19995     45.0  27.000000    2.0   9.000000      1.0  1978.000000   2.00000   \n",
       "19996     38.0  34.032333    4.0  17.000000      1.0  3687.417575   2.00000   \n",
       "19997     35.0  14.000000    9.0  22.000000      1.0  2001.000000   1.00000   \n",
       "19998     51.0  30.000000    8.0  17.000000      1.0  2011.000000   2.00000   \n",
       "19999     54.0  32.000000    9.0  12.603928      1.0  3687.417575   1.91071   \n",
       "\n",
       "        kitch_sq state   product_type  ... cafe_count_5000_price_2500  \\\n",
       "0       1.000000   1.0  OwnerOccupier  ...                       36.0   \n",
       "1       6.454917   2.0  OwnerOccupier  ...                        2.0   \n",
       "2      10.000000   3.0     Investment  ...                       13.0   \n",
       "3       6.454917   2.0     Investment  ...                        0.0   \n",
       "4       6.000000   2.0     Investment  ...                        3.0   \n",
       "...          ...   ...            ...  ...                        ...   \n",
       "19995   5.000000   2.0     Investment  ...                        9.0   \n",
       "19996   1.000000   1.0  OwnerOccupier  ...                        2.0   \n",
       "19997  10.000000   2.0     Investment  ...                       13.0   \n",
       "19998   9.000000   2.0     Investment  ...                        1.0   \n",
       "19999   6.454917   2.0     Investment  ...                       23.0   \n",
       "\n",
       "       cafe_count_5000_price_4000  cafe_count_5000_price_high  \\\n",
       "0                             7.0                         2.0   \n",
       "1                             2.0                         0.0   \n",
       "2                             6.0                         1.0   \n",
       "3                             0.0                         0.0   \n",
       "4                             1.0                         0.0   \n",
       "...                           ...                         ...   \n",
       "19995                         0.0                         0.0   \n",
       "19996                         2.0                         0.0   \n",
       "19997                         3.0                         0.0   \n",
       "19998                         0.0                         0.0   \n",
       "19999                         1.0                         1.0   \n",
       "\n",
       "       big_church_count_5000  church_count_5000  mosque_count_5000  \\\n",
       "0                       15.0               33.0                1.0   \n",
       "1                        0.0               13.0                1.0   \n",
       "2                        8.0               18.0                0.0   \n",
       "3                        1.0                3.0                0.0   \n",
       "4                        5.0                8.0                0.0   \n",
       "...                      ...                ...                ...   \n",
       "19995                    6.0               29.0                0.0   \n",
       "19996                    1.0               12.0                1.0   \n",
       "19997                    6.0               27.0                1.0   \n",
       "19998                    0.0                7.0                0.0   \n",
       "19999                    5.0               30.0                1.0   \n",
       "\n",
       "       leisure_count_5000  sport_count_5000  market_count_5000       price  \n",
       "0                    12.0              75.0               10.0  15318960.0  \n",
       "1                     0.0               6.0                1.0   6080000.0  \n",
       "2                     1.0              52.0                0.0  17000000.0  \n",
       "3                     2.0               8.0                2.0    990000.0  \n",
       "4                     1.0              34.0                5.0   7900000.0  \n",
       "...                   ...               ...                ...         ...  \n",
       "19995                 1.0              46.0               10.0   7200000.0  \n",
       "19996                 0.0               8.0                0.0   3971520.0  \n",
       "19997                10.0              57.0               13.0   7200000.0  \n",
       "19998                 0.0               3.0                0.0   3300000.0  \n",
       "19999                 4.0              62.0                7.0   8700000.0  \n",
       "\n",
       "[20000 rows x 290 columns]"
      ]
     },
     "execution_count": 9,
     "metadata": {},
     "output_type": "execute_result"
    }
   ],
   "source": [
    "df_filled"
   ]
  },
  {
   "cell_type": "markdown",
   "metadata": {},
   "source": [
    "Для категориальных признаков применим one-hot кодирование"
   ]
  },
  {
   "cell_type": "code",
   "execution_count": 10,
   "metadata": {},
   "outputs": [],
   "source": [
    "df_enc = pd.get_dummies(df_filled)"
   ]
  },
  {
   "cell_type": "code",
   "execution_count": 11,
   "metadata": {},
   "outputs": [
    {
     "data": {
      "text/html": [
       "<div>\n",
       "<style scoped>\n",
       "    .dataframe tbody tr th:only-of-type {\n",
       "        vertical-align: middle;\n",
       "    }\n",
       "\n",
       "    .dataframe tbody tr th {\n",
       "        vertical-align: top;\n",
       "    }\n",
       "\n",
       "    .dataframe thead th {\n",
       "        text-align: right;\n",
       "    }\n",
       "</style>\n",
       "<table border=\"1\" class=\"dataframe\">\n",
       "  <thead>\n",
       "    <tr style=\"text-align: right;\">\n",
       "      <th></th>\n",
       "      <th>full_sq</th>\n",
       "      <th>life_sq</th>\n",
       "      <th>floor</th>\n",
       "      <th>max_floor</th>\n",
       "      <th>build_year</th>\n",
       "      <th>num_room</th>\n",
       "      <th>kitch_sq</th>\n",
       "      <th>area_m</th>\n",
       "      <th>raion_popul</th>\n",
       "      <th>green_zone_part</th>\n",
       "      <th>...</th>\n",
       "      <th>ID_bus_terminal_10</th>\n",
       "      <th>ID_bus_terminal_11</th>\n",
       "      <th>ID_bus_terminal_12</th>\n",
       "      <th>ID_bus_terminal_13</th>\n",
       "      <th>ID_bus_terminal_14</th>\n",
       "      <th>ecology_excellent</th>\n",
       "      <th>ecology_good</th>\n",
       "      <th>ecology_no data</th>\n",
       "      <th>ecology_poor</th>\n",
       "      <th>ecology_satisfactory</th>\n",
       "    </tr>\n",
       "  </thead>\n",
       "  <tbody>\n",
       "    <tr>\n",
       "      <th>0</th>\n",
       "      <td>1.0</td>\n",
       "      <td>1.000000</td>\n",
       "      <td>1.0</td>\n",
       "      <td>1.000000</td>\n",
       "      <td>1.000000</td>\n",
       "      <td>1.00000</td>\n",
       "      <td>1.000000</td>\n",
       "      <td>5.293465e+06</td>\n",
       "      <td>77878.0</td>\n",
       "      <td>0.023464</td>\n",
       "      <td>...</td>\n",
       "      <td>0</td>\n",
       "      <td>0</td>\n",
       "      <td>0</td>\n",
       "      <td>0</td>\n",
       "      <td>0</td>\n",
       "      <td>0</td>\n",
       "      <td>0</td>\n",
       "      <td>0</td>\n",
       "      <td>1</td>\n",
       "      <td>0</td>\n",
       "    </tr>\n",
       "    <tr>\n",
       "      <th>1</th>\n",
       "      <td>64.0</td>\n",
       "      <td>64.000000</td>\n",
       "      <td>16.0</td>\n",
       "      <td>12.603928</td>\n",
       "      <td>3687.417575</td>\n",
       "      <td>1.91071</td>\n",
       "      <td>6.454917</td>\n",
       "      <td>6.677245e+07</td>\n",
       "      <td>9553.0</td>\n",
       "      <td>0.336177</td>\n",
       "      <td>...</td>\n",
       "      <td>0</td>\n",
       "      <td>0</td>\n",
       "      <td>0</td>\n",
       "      <td>0</td>\n",
       "      <td>0</td>\n",
       "      <td>0</td>\n",
       "      <td>0</td>\n",
       "      <td>1</td>\n",
       "      <td>0</td>\n",
       "      <td>0</td>\n",
       "    </tr>\n",
       "    <tr>\n",
       "      <th>2</th>\n",
       "      <td>83.0</td>\n",
       "      <td>44.000000</td>\n",
       "      <td>9.0</td>\n",
       "      <td>17.000000</td>\n",
       "      <td>1985.000000</td>\n",
       "      <td>3.00000</td>\n",
       "      <td>10.000000</td>\n",
       "      <td>1.216448e+07</td>\n",
       "      <td>78507.0</td>\n",
       "      <td>0.297166</td>\n",
       "      <td>...</td>\n",
       "      <td>0</td>\n",
       "      <td>0</td>\n",
       "      <td>0</td>\n",
       "      <td>0</td>\n",
       "      <td>0</td>\n",
       "      <td>0</td>\n",
       "      <td>1</td>\n",
       "      <td>0</td>\n",
       "      <td>0</td>\n",
       "      <td>0</td>\n",
       "    </tr>\n",
       "    <tr>\n",
       "      <th>3</th>\n",
       "      <td>71.0</td>\n",
       "      <td>49.000000</td>\n",
       "      <td>2.0</td>\n",
       "      <td>12.603928</td>\n",
       "      <td>3687.417575</td>\n",
       "      <td>1.91071</td>\n",
       "      <td>6.454917</td>\n",
       "      <td>4.708040e+06</td>\n",
       "      <td>38075.0</td>\n",
       "      <td>0.271702</td>\n",
       "      <td>...</td>\n",
       "      <td>0</td>\n",
       "      <td>0</td>\n",
       "      <td>0</td>\n",
       "      <td>0</td>\n",
       "      <td>0</td>\n",
       "      <td>0</td>\n",
       "      <td>0</td>\n",
       "      <td>1</td>\n",
       "      <td>0</td>\n",
       "      <td>0</td>\n",
       "    </tr>\n",
       "    <tr>\n",
       "      <th>4</th>\n",
       "      <td>60.0</td>\n",
       "      <td>42.000000</td>\n",
       "      <td>9.0</td>\n",
       "      <td>9.000000</td>\n",
       "      <td>1970.000000</td>\n",
       "      <td>3.00000</td>\n",
       "      <td>6.000000</td>\n",
       "      <td>1.428699e+07</td>\n",
       "      <td>157010.0</td>\n",
       "      <td>0.389354</td>\n",
       "      <td>...</td>\n",
       "      <td>0</td>\n",
       "      <td>0</td>\n",
       "      <td>0</td>\n",
       "      <td>0</td>\n",
       "      <td>0</td>\n",
       "      <td>0</td>\n",
       "      <td>1</td>\n",
       "      <td>0</td>\n",
       "      <td>0</td>\n",
       "      <td>0</td>\n",
       "    </tr>\n",
       "    <tr>\n",
       "      <th>...</th>\n",
       "      <td>...</td>\n",
       "      <td>...</td>\n",
       "      <td>...</td>\n",
       "      <td>...</td>\n",
       "      <td>...</td>\n",
       "      <td>...</td>\n",
       "      <td>...</td>\n",
       "      <td>...</td>\n",
       "      <td>...</td>\n",
       "      <td>...</td>\n",
       "      <td>...</td>\n",
       "      <td>...</td>\n",
       "      <td>...</td>\n",
       "      <td>...</td>\n",
       "      <td>...</td>\n",
       "      <td>...</td>\n",
       "      <td>...</td>\n",
       "      <td>...</td>\n",
       "      <td>...</td>\n",
       "      <td>...</td>\n",
       "      <td>...</td>\n",
       "    </tr>\n",
       "    <tr>\n",
       "      <th>19995</th>\n",
       "      <td>45.0</td>\n",
       "      <td>27.000000</td>\n",
       "      <td>2.0</td>\n",
       "      <td>9.000000</td>\n",
       "      <td>1978.000000</td>\n",
       "      <td>2.00000</td>\n",
       "      <td>5.000000</td>\n",
       "      <td>2.481385e+07</td>\n",
       "      <td>174831.0</td>\n",
       "      <td>0.683844</td>\n",
       "      <td>...</td>\n",
       "      <td>0</td>\n",
       "      <td>0</td>\n",
       "      <td>0</td>\n",
       "      <td>0</td>\n",
       "      <td>0</td>\n",
       "      <td>0</td>\n",
       "      <td>1</td>\n",
       "      <td>0</td>\n",
       "      <td>0</td>\n",
       "      <td>0</td>\n",
       "    </tr>\n",
       "    <tr>\n",
       "      <th>19996</th>\n",
       "      <td>38.0</td>\n",
       "      <td>34.032333</td>\n",
       "      <td>4.0</td>\n",
       "      <td>17.000000</td>\n",
       "      <td>3687.417575</td>\n",
       "      <td>2.00000</td>\n",
       "      <td>1.000000</td>\n",
       "      <td>6.677245e+07</td>\n",
       "      <td>9553.0</td>\n",
       "      <td>0.336177</td>\n",
       "      <td>...</td>\n",
       "      <td>0</td>\n",
       "      <td>0</td>\n",
       "      <td>0</td>\n",
       "      <td>0</td>\n",
       "      <td>0</td>\n",
       "      <td>0</td>\n",
       "      <td>0</td>\n",
       "      <td>1</td>\n",
       "      <td>0</td>\n",
       "      <td>0</td>\n",
       "    </tr>\n",
       "    <tr>\n",
       "      <th>19997</th>\n",
       "      <td>35.0</td>\n",
       "      <td>14.000000</td>\n",
       "      <td>9.0</td>\n",
       "      <td>22.000000</td>\n",
       "      <td>2001.000000</td>\n",
       "      <td>1.00000</td>\n",
       "      <td>10.000000</td>\n",
       "      <td>1.004686e+07</td>\n",
       "      <td>76156.0</td>\n",
       "      <td>0.071056</td>\n",
       "      <td>...</td>\n",
       "      <td>0</td>\n",
       "      <td>0</td>\n",
       "      <td>0</td>\n",
       "      <td>0</td>\n",
       "      <td>0</td>\n",
       "      <td>1</td>\n",
       "      <td>0</td>\n",
       "      <td>0</td>\n",
       "      <td>0</td>\n",
       "      <td>0</td>\n",
       "    </tr>\n",
       "    <tr>\n",
       "      <th>19998</th>\n",
       "      <td>51.0</td>\n",
       "      <td>30.000000</td>\n",
       "      <td>8.0</td>\n",
       "      <td>17.000000</td>\n",
       "      <td>2011.000000</td>\n",
       "      <td>2.00000</td>\n",
       "      <td>9.000000</td>\n",
       "      <td>4.036700e+07</td>\n",
       "      <td>21819.0</td>\n",
       "      <td>0.492840</td>\n",
       "      <td>...</td>\n",
       "      <td>0</td>\n",
       "      <td>0</td>\n",
       "      <td>0</td>\n",
       "      <td>0</td>\n",
       "      <td>0</td>\n",
       "      <td>0</td>\n",
       "      <td>0</td>\n",
       "      <td>1</td>\n",
       "      <td>0</td>\n",
       "      <td>0</td>\n",
       "    </tr>\n",
       "    <tr>\n",
       "      <th>19999</th>\n",
       "      <td>54.0</td>\n",
       "      <td>32.000000</td>\n",
       "      <td>9.0</td>\n",
       "      <td>12.603928</td>\n",
       "      <td>3687.417575</td>\n",
       "      <td>1.91071</td>\n",
       "      <td>6.454917</td>\n",
       "      <td>7.811375e+06</td>\n",
       "      <td>153248.0</td>\n",
       "      <td>0.127002</td>\n",
       "      <td>...</td>\n",
       "      <td>0</td>\n",
       "      <td>0</td>\n",
       "      <td>0</td>\n",
       "      <td>0</td>\n",
       "      <td>0</td>\n",
       "      <td>0</td>\n",
       "      <td>0</td>\n",
       "      <td>0</td>\n",
       "      <td>0</td>\n",
       "      <td>1</td>\n",
       "    </tr>\n",
       "  </tbody>\n",
       "</table>\n",
       "<p>20000 rows × 1065 columns</p>\n",
       "</div>"
      ],
      "text/plain": [
       "       full_sq    life_sq  floor  max_floor   build_year  num_room   kitch_sq  \\\n",
       "0          1.0   1.000000    1.0   1.000000     1.000000   1.00000   1.000000   \n",
       "1         64.0  64.000000   16.0  12.603928  3687.417575   1.91071   6.454917   \n",
       "2         83.0  44.000000    9.0  17.000000  1985.000000   3.00000  10.000000   \n",
       "3         71.0  49.000000    2.0  12.603928  3687.417575   1.91071   6.454917   \n",
       "4         60.0  42.000000    9.0   9.000000  1970.000000   3.00000   6.000000   \n",
       "...        ...        ...    ...        ...          ...       ...        ...   \n",
       "19995     45.0  27.000000    2.0   9.000000  1978.000000   2.00000   5.000000   \n",
       "19996     38.0  34.032333    4.0  17.000000  3687.417575   2.00000   1.000000   \n",
       "19997     35.0  14.000000    9.0  22.000000  2001.000000   1.00000  10.000000   \n",
       "19998     51.0  30.000000    8.0  17.000000  2011.000000   2.00000   9.000000   \n",
       "19999     54.0  32.000000    9.0  12.603928  3687.417575   1.91071   6.454917   \n",
       "\n",
       "             area_m  raion_popul  green_zone_part  ...  ID_bus_terminal_10  \\\n",
       "0      5.293465e+06      77878.0         0.023464  ...                   0   \n",
       "1      6.677245e+07       9553.0         0.336177  ...                   0   \n",
       "2      1.216448e+07      78507.0         0.297166  ...                   0   \n",
       "3      4.708040e+06      38075.0         0.271702  ...                   0   \n",
       "4      1.428699e+07     157010.0         0.389354  ...                   0   \n",
       "...             ...          ...              ...  ...                 ...   \n",
       "19995  2.481385e+07     174831.0         0.683844  ...                   0   \n",
       "19996  6.677245e+07       9553.0         0.336177  ...                   0   \n",
       "19997  1.004686e+07      76156.0         0.071056  ...                   0   \n",
       "19998  4.036700e+07      21819.0         0.492840  ...                   0   \n",
       "19999  7.811375e+06     153248.0         0.127002  ...                   0   \n",
       "\n",
       "       ID_bus_terminal_11  ID_bus_terminal_12  ID_bus_terminal_13  \\\n",
       "0                       0                   0                   0   \n",
       "1                       0                   0                   0   \n",
       "2                       0                   0                   0   \n",
       "3                       0                   0                   0   \n",
       "4                       0                   0                   0   \n",
       "...                   ...                 ...                 ...   \n",
       "19995                   0                   0                   0   \n",
       "19996                   0                   0                   0   \n",
       "19997                   0                   0                   0   \n",
       "19998                   0                   0                   0   \n",
       "19999                   0                   0                   0   \n",
       "\n",
       "       ID_bus_terminal_14  ecology_excellent  ecology_good  ecology_no data  \\\n",
       "0                       0                  0             0                0   \n",
       "1                       0                  0             0                1   \n",
       "2                       0                  0             1                0   \n",
       "3                       0                  0             0                1   \n",
       "4                       0                  0             1                0   \n",
       "...                   ...                ...           ...              ...   \n",
       "19995                   0                  0             1                0   \n",
       "19996                   0                  0             0                1   \n",
       "19997                   0                  1             0                0   \n",
       "19998                   0                  0             0                1   \n",
       "19999                   0                  0             0                0   \n",
       "\n",
       "       ecology_poor  ecology_satisfactory  \n",
       "0                 1                     0  \n",
       "1                 0                     0  \n",
       "2                 0                     0  \n",
       "3                 0                     0  \n",
       "4                 0                     0  \n",
       "...             ...                   ...  \n",
       "19995             0                     0  \n",
       "19996             0                     0  \n",
       "19997             0                     0  \n",
       "19998             0                     0  \n",
       "19999             0                     1  \n",
       "\n",
       "[20000 rows x 1065 columns]"
      ]
     },
     "execution_count": 11,
     "metadata": {},
     "output_type": "execute_result"
    }
   ],
   "source": [
    "df_enc"
   ]
  },
  {
   "cell_type": "code",
   "execution_count": 12,
   "metadata": {},
   "outputs": [],
   "source": [
    "X = df_enc.drop(columns=[\"price\"])\n",
    "y = df_enc[\"price\"]\n",
    "X_train, X_test, y_train, y_test = train_test_split(X, y, random_state=42, test_size=0.2)"
   ]
  },
  {
   "cell_type": "markdown",
   "metadata": {
    "id": "oiOby6hNu92W"
   },
   "source": [
    "### Baseline (2 балла)\n",
    "\n",
    "В качестве Baseline обучите `DecisionTreeRegressor` из `sklearn`."
   ]
  },
  {
   "cell_type": "code",
   "execution_count": 25,
   "metadata": {},
   "outputs": [],
   "source": [
    "from sklearn.tree import DecisionTreeRegressor"
   ]
  },
  {
   "cell_type": "code",
   "execution_count": 54,
   "metadata": {
    "id": "gJIDf3kn1Wfv"
   },
   "outputs": [],
   "source": [
    "tree = DecisionTreeRegressor()\n",
    "tree.fit(X_train, y_train)\n",
    "pred = tree.predict(X_test)"
   ]
  },
  {
   "cell_type": "code",
   "execution_count": 56,
   "metadata": {},
   "outputs": [
    {
     "data": {
      "text/plain": [
       "array([11684305.,  5813760., 18000000., ...,  2357000.,  5550000.,\n",
       "        6800000.])"
      ]
     },
     "execution_count": 56,
     "metadata": {},
     "output_type": "execute_result"
    }
   ],
   "source": [
    "pred"
   ]
  },
  {
   "cell_type": "markdown",
   "metadata": {
    "id": "XUC7NFhw1X41"
   },
   "source": [
    "Проверьте качество на отложенной выборке."
   ]
  },
  {
   "cell_type": "code",
   "execution_count": 61,
   "metadata": {
    "id": "O_LCiQIN1bzD"
   },
   "outputs": [
    {
     "name": "stdout",
     "output_type": "stream",
     "text": [
      "3833207.632678462\n"
     ]
    }
   ],
   "source": [
    "print(mean_squared_error(pred, y_test)**0.5)"
   ]
  },
  {
   "cell_type": "markdown",
   "metadata": {
    "id": "3bezBBI7u_oF"
   },
   "source": [
    "### Feature Engineering (2 балла)\n",
    "\n",
    "Часто улучшить модель можно с помощью аккуратного Feature Engineering.\n",
    "\n",
    "Добавим в модель дополнительные признаки:\n",
    "* \"Как часто в этот год и этот месяц появлились объявления\"\n",
    "* \"Как часто в этот год и эту неделю появлялись объявления\""
   ]
  },
  {
   "cell_type": "code",
   "execution_count": 13,
   "metadata": {
    "id": "_cJ6SBqUKC4C"
   },
   "outputs": [
    {
     "name": "stderr",
     "output_type": "stream",
     "text": [
      "/tmp/ipykernel_174511/3601704785.py:5: FutureWarning: Series.dt.weekofyear and Series.dt.week have been deprecated.  Please use Series.dt.isocalendar().week instead.\n",
      "  week_year = (df.timestamp.dt.weekofyear + df.timestamp.dt.year * 100)\n"
     ]
    }
   ],
   "source": [
    "month_year = (df.timestamp.dt.month + df.timestamp.dt.year * 100)\n",
    "month_year_cnt_map = month_year.value_counts().to_dict()\n",
    "df_enc[\"month_year_cnt\"] = month_year.map(month_year_cnt_map)\n",
    "\n",
    "week_year = (df.timestamp.dt.weekofyear + df.timestamp.dt.year * 100)\n",
    "week_year_cnt_map = week_year.value_counts().to_dict()\n",
    "df_enc[\"week_year_cnt\"] = week_year.map(week_year_cnt_map)"
   ]
  },
  {
   "cell_type": "markdown",
   "metadata": {
    "id": "pCajk45_KDSz"
   },
   "source": [
    "Добавьте следюущие дополнительные признаки:\n",
    "* Месяц (из колонки `timestamp`)\n",
    "* День недели (из колонки `timestamp`)\n",
    "* Отношение \"этаж / максимальный этаж в здании\" (колонки `floor` и `max_floor`)\n",
    "* Отношение \"площадь кухни / площадь квартиры\" (колонки `kitchen_sq` и `full_sq`)\n",
    "\n",
    "По желанию можно добавить и другие признаки."
   ]
  },
  {
   "cell_type": "code",
   "execution_count": 14,
   "metadata": {
    "id": "dXZkoUL8Kve6"
   },
   "outputs": [],
   "source": [
    "df_enc[\"month\"] = df.timestamp.dt.month\n",
    "df_enc[\"week_day\"] = df.timestamp.dt.weekday\n",
    "df_enc[\"floor_to_max\"] = df_enc[\"floor\"] / df_enc[\"max_floor\"]\n",
    "df_enc[\"kitchen_to_full\"] = df_enc[\"kitch_sq\"] / df_enc[\"full_sq\"]\n",
    "df_enc[\"mean_room\"] = df_enc[\"full_sq\"] / df_enc[\"num_room\"]\n",
    "df_enc[\"life_to_full\"] = df_enc[\"life_sq\"] / df_enc[\"full_sq\"]"
   ]
  },
  {
   "cell_type": "markdown",
   "metadata": {},
   "source": [
    "Помимо оюязательных были также добавлены: средняяя площадь комнаты и доля жилой площади от общей."
   ]
  },
  {
   "cell_type": "code",
   "execution_count": 15,
   "metadata": {},
   "outputs": [
    {
     "data": {
      "text/html": [
       "<div>\n",
       "<style scoped>\n",
       "    .dataframe tbody tr th:only-of-type {\n",
       "        vertical-align: middle;\n",
       "    }\n",
       "\n",
       "    .dataframe tbody tr th {\n",
       "        vertical-align: top;\n",
       "    }\n",
       "\n",
       "    .dataframe thead th {\n",
       "        text-align: right;\n",
       "    }\n",
       "</style>\n",
       "<table border=\"1\" class=\"dataframe\">\n",
       "  <thead>\n",
       "    <tr style=\"text-align: right;\">\n",
       "      <th></th>\n",
       "      <th>full_sq</th>\n",
       "      <th>life_sq</th>\n",
       "      <th>floor</th>\n",
       "      <th>max_floor</th>\n",
       "      <th>build_year</th>\n",
       "      <th>num_room</th>\n",
       "      <th>kitch_sq</th>\n",
       "      <th>area_m</th>\n",
       "      <th>raion_popul</th>\n",
       "      <th>green_zone_part</th>\n",
       "      <th>...</th>\n",
       "      <th>ecology_poor</th>\n",
       "      <th>ecology_satisfactory</th>\n",
       "      <th>month_year_cnt</th>\n",
       "      <th>week_year_cnt</th>\n",
       "      <th>month</th>\n",
       "      <th>week_day</th>\n",
       "      <th>floor_to_max</th>\n",
       "      <th>kitchen_to_full</th>\n",
       "      <th>mean_room</th>\n",
       "      <th>life_to_full</th>\n",
       "    </tr>\n",
       "  </thead>\n",
       "  <tbody>\n",
       "    <tr>\n",
       "      <th>0</th>\n",
       "      <td>1.0</td>\n",
       "      <td>1.000000</td>\n",
       "      <td>1.0</td>\n",
       "      <td>1.000000</td>\n",
       "      <td>1.000000</td>\n",
       "      <td>1.00000</td>\n",
       "      <td>1.000000</td>\n",
       "      <td>5.293465e+06</td>\n",
       "      <td>77878.0</td>\n",
       "      <td>0.023464</td>\n",
       "      <td>...</td>\n",
       "      <td>1</td>\n",
       "      <td>0</td>\n",
       "      <td>1122</td>\n",
       "      <td>112</td>\n",
       "      <td>12</td>\n",
       "      <td>4</td>\n",
       "      <td>1.000000</td>\n",
       "      <td>1.000000</td>\n",
       "      <td>1.000000</td>\n",
       "      <td>1.000000</td>\n",
       "    </tr>\n",
       "    <tr>\n",
       "      <th>1</th>\n",
       "      <td>64.0</td>\n",
       "      <td>64.000000</td>\n",
       "      <td>16.0</td>\n",
       "      <td>12.603928</td>\n",
       "      <td>3687.417575</td>\n",
       "      <td>1.91071</td>\n",
       "      <td>6.454917</td>\n",
       "      <td>6.677245e+07</td>\n",
       "      <td>9553.0</td>\n",
       "      <td>0.336177</td>\n",
       "      <td>...</td>\n",
       "      <td>0</td>\n",
       "      <td>0</td>\n",
       "      <td>327</td>\n",
       "      <td>68</td>\n",
       "      <td>10</td>\n",
       "      <td>3</td>\n",
       "      <td>1.269446</td>\n",
       "      <td>0.100858</td>\n",
       "      <td>33.495396</td>\n",
       "      <td>1.000000</td>\n",
       "    </tr>\n",
       "    <tr>\n",
       "      <th>2</th>\n",
       "      <td>83.0</td>\n",
       "      <td>44.000000</td>\n",
       "      <td>9.0</td>\n",
       "      <td>17.000000</td>\n",
       "      <td>1985.000000</td>\n",
       "      <td>3.00000</td>\n",
       "      <td>10.000000</td>\n",
       "      <td>1.216448e+07</td>\n",
       "      <td>78507.0</td>\n",
       "      <td>0.297166</td>\n",
       "      <td>...</td>\n",
       "      <td>0</td>\n",
       "      <td>0</td>\n",
       "      <td>752</td>\n",
       "      <td>192</td>\n",
       "      <td>2</td>\n",
       "      <td>2</td>\n",
       "      <td>0.529412</td>\n",
       "      <td>0.120482</td>\n",
       "      <td>27.666667</td>\n",
       "      <td>0.530120</td>\n",
       "    </tr>\n",
       "    <tr>\n",
       "      <th>3</th>\n",
       "      <td>71.0</td>\n",
       "      <td>49.000000</td>\n",
       "      <td>2.0</td>\n",
       "      <td>12.603928</td>\n",
       "      <td>3687.417575</td>\n",
       "      <td>1.91071</td>\n",
       "      <td>6.454917</td>\n",
       "      <td>4.708040e+06</td>\n",
       "      <td>38075.0</td>\n",
       "      <td>0.271702</td>\n",
       "      <td>...</td>\n",
       "      <td>0</td>\n",
       "      <td>0</td>\n",
       "      <td>262</td>\n",
       "      <td>69</td>\n",
       "      <td>7</td>\n",
       "      <td>3</td>\n",
       "      <td>0.158681</td>\n",
       "      <td>0.090914</td>\n",
       "      <td>37.158955</td>\n",
       "      <td>0.690141</td>\n",
       "    </tr>\n",
       "    <tr>\n",
       "      <th>4</th>\n",
       "      <td>60.0</td>\n",
       "      <td>42.000000</td>\n",
       "      <td>9.0</td>\n",
       "      <td>9.000000</td>\n",
       "      <td>1970.000000</td>\n",
       "      <td>3.00000</td>\n",
       "      <td>6.000000</td>\n",
       "      <td>1.428699e+07</td>\n",
       "      <td>157010.0</td>\n",
       "      <td>0.389354</td>\n",
       "      <td>...</td>\n",
       "      <td>0</td>\n",
       "      <td>0</td>\n",
       "      <td>711</td>\n",
       "      <td>214</td>\n",
       "      <td>10</td>\n",
       "      <td>2</td>\n",
       "      <td>1.000000</td>\n",
       "      <td>0.100000</td>\n",
       "      <td>20.000000</td>\n",
       "      <td>0.700000</td>\n",
       "    </tr>\n",
       "    <tr>\n",
       "      <th>...</th>\n",
       "      <td>...</td>\n",
       "      <td>...</td>\n",
       "      <td>...</td>\n",
       "      <td>...</td>\n",
       "      <td>...</td>\n",
       "      <td>...</td>\n",
       "      <td>...</td>\n",
       "      <td>...</td>\n",
       "      <td>...</td>\n",
       "      <td>...</td>\n",
       "      <td>...</td>\n",
       "      <td>...</td>\n",
       "      <td>...</td>\n",
       "      <td>...</td>\n",
       "      <td>...</td>\n",
       "      <td>...</td>\n",
       "      <td>...</td>\n",
       "      <td>...</td>\n",
       "      <td>...</td>\n",
       "      <td>...</td>\n",
       "      <td>...</td>\n",
       "    </tr>\n",
       "    <tr>\n",
       "      <th>19995</th>\n",
       "      <td>45.0</td>\n",
       "      <td>27.000000</td>\n",
       "      <td>2.0</td>\n",
       "      <td>9.000000</td>\n",
       "      <td>1978.000000</td>\n",
       "      <td>2.00000</td>\n",
       "      <td>5.000000</td>\n",
       "      <td>2.481385e+07</td>\n",
       "      <td>174831.0</td>\n",
       "      <td>0.683844</td>\n",
       "      <td>...</td>\n",
       "      <td>0</td>\n",
       "      <td>0</td>\n",
       "      <td>734</td>\n",
       "      <td>181</td>\n",
       "      <td>9</td>\n",
       "      <td>0</td>\n",
       "      <td>0.222222</td>\n",
       "      <td>0.111111</td>\n",
       "      <td>22.500000</td>\n",
       "      <td>0.600000</td>\n",
       "    </tr>\n",
       "    <tr>\n",
       "      <th>19996</th>\n",
       "      <td>38.0</td>\n",
       "      <td>34.032333</td>\n",
       "      <td>4.0</td>\n",
       "      <td>17.000000</td>\n",
       "      <td>3687.417575</td>\n",
       "      <td>2.00000</td>\n",
       "      <td>1.000000</td>\n",
       "      <td>6.677245e+07</td>\n",
       "      <td>9553.0</td>\n",
       "      <td>0.336177</td>\n",
       "      <td>...</td>\n",
       "      <td>0</td>\n",
       "      <td>0</td>\n",
       "      <td>579</td>\n",
       "      <td>153</td>\n",
       "      <td>12</td>\n",
       "      <td>4</td>\n",
       "      <td>0.235294</td>\n",
       "      <td>0.026316</td>\n",
       "      <td>19.000000</td>\n",
       "      <td>0.895588</td>\n",
       "    </tr>\n",
       "    <tr>\n",
       "      <th>19997</th>\n",
       "      <td>35.0</td>\n",
       "      <td>14.000000</td>\n",
       "      <td>9.0</td>\n",
       "      <td>22.000000</td>\n",
       "      <td>2001.000000</td>\n",
       "      <td>1.00000</td>\n",
       "      <td>10.000000</td>\n",
       "      <td>1.004686e+07</td>\n",
       "      <td>76156.0</td>\n",
       "      <td>0.071056</td>\n",
       "      <td>...</td>\n",
       "      <td>0</td>\n",
       "      <td>0</td>\n",
       "      <td>861</td>\n",
       "      <td>277</td>\n",
       "      <td>6</td>\n",
       "      <td>3</td>\n",
       "      <td>0.409091</td>\n",
       "      <td>0.285714</td>\n",
       "      <td>35.000000</td>\n",
       "      <td>0.400000</td>\n",
       "    </tr>\n",
       "    <tr>\n",
       "      <th>19998</th>\n",
       "      <td>51.0</td>\n",
       "      <td>30.000000</td>\n",
       "      <td>8.0</td>\n",
       "      <td>17.000000</td>\n",
       "      <td>2011.000000</td>\n",
       "      <td>2.00000</td>\n",
       "      <td>9.000000</td>\n",
       "      <td>4.036700e+07</td>\n",
       "      <td>21819.0</td>\n",
       "      <td>0.492840</td>\n",
       "      <td>...</td>\n",
       "      <td>0</td>\n",
       "      <td>0</td>\n",
       "      <td>573</td>\n",
       "      <td>164</td>\n",
       "      <td>1</td>\n",
       "      <td>1</td>\n",
       "      <td>0.470588</td>\n",
       "      <td>0.176471</td>\n",
       "      <td>25.500000</td>\n",
       "      <td>0.588235</td>\n",
       "    </tr>\n",
       "    <tr>\n",
       "      <th>19999</th>\n",
       "      <td>54.0</td>\n",
       "      <td>32.000000</td>\n",
       "      <td>9.0</td>\n",
       "      <td>12.603928</td>\n",
       "      <td>3687.417575</td>\n",
       "      <td>1.91071</td>\n",
       "      <td>6.454917</td>\n",
       "      <td>7.811375e+06</td>\n",
       "      <td>153248.0</td>\n",
       "      <td>0.127002</td>\n",
       "      <td>...</td>\n",
       "      <td>0</td>\n",
       "      <td>1</td>\n",
       "      <td>210</td>\n",
       "      <td>61</td>\n",
       "      <td>4</td>\n",
       "      <td>0</td>\n",
       "      <td>0.714063</td>\n",
       "      <td>0.119536</td>\n",
       "      <td>28.261740</td>\n",
       "      <td>0.592593</td>\n",
       "    </tr>\n",
       "  </tbody>\n",
       "</table>\n",
       "<p>20000 rows × 1073 columns</p>\n",
       "</div>"
      ],
      "text/plain": [
       "       full_sq    life_sq  floor  max_floor   build_year  num_room   kitch_sq  \\\n",
       "0          1.0   1.000000    1.0   1.000000     1.000000   1.00000   1.000000   \n",
       "1         64.0  64.000000   16.0  12.603928  3687.417575   1.91071   6.454917   \n",
       "2         83.0  44.000000    9.0  17.000000  1985.000000   3.00000  10.000000   \n",
       "3         71.0  49.000000    2.0  12.603928  3687.417575   1.91071   6.454917   \n",
       "4         60.0  42.000000    9.0   9.000000  1970.000000   3.00000   6.000000   \n",
       "...        ...        ...    ...        ...          ...       ...        ...   \n",
       "19995     45.0  27.000000    2.0   9.000000  1978.000000   2.00000   5.000000   \n",
       "19996     38.0  34.032333    4.0  17.000000  3687.417575   2.00000   1.000000   \n",
       "19997     35.0  14.000000    9.0  22.000000  2001.000000   1.00000  10.000000   \n",
       "19998     51.0  30.000000    8.0  17.000000  2011.000000   2.00000   9.000000   \n",
       "19999     54.0  32.000000    9.0  12.603928  3687.417575   1.91071   6.454917   \n",
       "\n",
       "             area_m  raion_popul  green_zone_part  ...  ecology_poor  \\\n",
       "0      5.293465e+06      77878.0         0.023464  ...             1   \n",
       "1      6.677245e+07       9553.0         0.336177  ...             0   \n",
       "2      1.216448e+07      78507.0         0.297166  ...             0   \n",
       "3      4.708040e+06      38075.0         0.271702  ...             0   \n",
       "4      1.428699e+07     157010.0         0.389354  ...             0   \n",
       "...             ...          ...              ...  ...           ...   \n",
       "19995  2.481385e+07     174831.0         0.683844  ...             0   \n",
       "19996  6.677245e+07       9553.0         0.336177  ...             0   \n",
       "19997  1.004686e+07      76156.0         0.071056  ...             0   \n",
       "19998  4.036700e+07      21819.0         0.492840  ...             0   \n",
       "19999  7.811375e+06     153248.0         0.127002  ...             0   \n",
       "\n",
       "       ecology_satisfactory  month_year_cnt  week_year_cnt  month  week_day  \\\n",
       "0                         0            1122            112     12         4   \n",
       "1                         0             327             68     10         3   \n",
       "2                         0             752            192      2         2   \n",
       "3                         0             262             69      7         3   \n",
       "4                         0             711            214     10         2   \n",
       "...                     ...             ...            ...    ...       ...   \n",
       "19995                     0             734            181      9         0   \n",
       "19996                     0             579            153     12         4   \n",
       "19997                     0             861            277      6         3   \n",
       "19998                     0             573            164      1         1   \n",
       "19999                     1             210             61      4         0   \n",
       "\n",
       "       floor_to_max  kitchen_to_full  mean_room  life_to_full  \n",
       "0          1.000000         1.000000   1.000000      1.000000  \n",
       "1          1.269446         0.100858  33.495396      1.000000  \n",
       "2          0.529412         0.120482  27.666667      0.530120  \n",
       "3          0.158681         0.090914  37.158955      0.690141  \n",
       "4          1.000000         0.100000  20.000000      0.700000  \n",
       "...             ...              ...        ...           ...  \n",
       "19995      0.222222         0.111111  22.500000      0.600000  \n",
       "19996      0.235294         0.026316  19.000000      0.895588  \n",
       "19997      0.409091         0.285714  35.000000      0.400000  \n",
       "19998      0.470588         0.176471  25.500000      0.588235  \n",
       "19999      0.714063         0.119536  28.261740      0.592593  \n",
       "\n",
       "[20000 rows x 1073 columns]"
      ]
     },
     "execution_count": 15,
     "metadata": {},
     "output_type": "execute_result"
    }
   ],
   "source": [
    "df_enc"
   ]
  },
  {
   "cell_type": "markdown",
   "metadata": {
    "id": "_-jCowvWLiXZ"
   },
   "source": [
    "Разделите выборку на обучающую и тестовую еще раз (потому что дополнительные признаки созданы для исходной выборки)."
   ]
  },
  {
   "cell_type": "code",
   "execution_count": 16,
   "metadata": {},
   "outputs": [
    {
     "data": {
      "text/plain": [
       "0.00015"
      ]
     },
     "execution_count": 16,
     "metadata": {},
     "output_type": "execute_result"
    }
   ],
   "source": [
    "df_enc.isnull().any(axis=1).mean()"
   ]
  },
  {
   "cell_type": "code",
   "execution_count": 17,
   "metadata": {},
   "outputs": [
    {
     "data": {
      "text/plain": [
       "(20000,)"
      ]
     },
     "execution_count": 17,
     "metadata": {},
     "output_type": "execute_result"
    }
   ],
   "source": [
    "np.array(df_enc == np.inf).any(axis=1).shape"
   ]
  },
  {
   "cell_type": "code",
   "execution_count": 18,
   "metadata": {},
   "outputs": [],
   "source": [
    "df_enc = df_enc.dropna(axis=0)"
   ]
  },
  {
   "cell_type": "code",
   "execution_count": null,
   "metadata": {},
   "outputs": [],
   "source": [
    "m = df_enc.loc[df_enc[\"floor_to_max\"] != np.inf, \"floor_to_max\"].max()\n",
    "df_enc[\"floor_to_max\"].replace(np.inf, m, inplace=True)\n",
    "m = df_enc.loc[df_enc[\"kitchen_to_full\"] != np.inf, \"kitchen_to_full\"].max()\n",
    "df_enc[\"kitchen_to_full\"].replace(np.inf, m, inplace=True)\n",
    "m = df_enc.loc[df_enc[\"mean_room\"] != np.inf, \"mean_room\"].max()\n",
    "df_enc[\"mean_room\"].replace(np.inf, m, inplace=True)\n",
    "m = df_enc.loc[df_enc[\"life_to_full\"] != np.inf, \"life_to_full\"].max()\n",
    "df_enc[\"life_to_full\"].replace(np.inf, m, inplace=True)"
   ]
  },
  {
   "cell_type": "code",
   "execution_count": 20,
   "metadata": {
    "id": "0f-vO3LcLhdf"
   },
   "outputs": [],
   "source": [
    "X = df_enc.drop(columns=[\"price\"])\n",
    "y = df_enc[\"price\"]\n",
    "X_train, X_test, y_train, y_test = train_test_split(X, y, random_state=42, test_size=0.2)"
   ]
  },
  {
   "cell_type": "markdown",
   "metadata": {
    "id": "CPtzkpFEvBw9"
   },
   "source": [
    "### Model Selection (3 балла)\n",
    "\n",
    "Посмотрите, какого качества можно добиться если использовать разные модели:\n",
    "* `DecisionTreeRegressor` из `sklearn`\n",
    "* `RandomForestRegressor` из `sklearn`\n",
    "* `CatBoostRegressor`\n",
    "\n",
    "Также вы можете попробовать линейные модели, другие бустинги (`LigthGBM` и `XGBoost`).\n",
    "\n",
    "Почти все библиотеки поддерживают удобный способ подбора гиперпараметров: посмотрите как это делать в [sklearn](https://scikit-learn.org/stable/modules/generated/sklearn.model_selection.GridSearchCV.html) или в [catboost](https://catboost.ai/docs/concepts/python-reference_catboostregressor_grid_search.html).\n",
    "\n",
    "Проверяйте качество каждой модели на тестовой выборке и выберите наилучшую."
   ]
  },
  {
   "cell_type": "markdown",
   "metadata": {},
   "source": [
    "### Дерево решений"
   ]
  },
  {
   "cell_type": "code",
   "execution_count": 93,
   "metadata": {},
   "outputs": [
    {
     "name": "stdout",
     "output_type": "stream",
     "text": [
      "3630828.0567652574\n"
     ]
    }
   ],
   "source": [
    "tree = DecisionTreeRegressor()\n",
    "tree.fit(X_train, y_train)\n",
    "pred = tree.predict(X_test)\n",
    "print(mean_squared_error(pred, y_test)**0.5)"
   ]
  },
  {
   "cell_type": "markdown",
   "metadata": {},
   "source": [
    "Как видно, путем feature engineering удалось немного повысить качество предсказаний"
   ]
  },
  {
   "cell_type": "code",
   "execution_count": 100,
   "metadata": {
    "id": "PZstXx6uNRfE"
   },
   "outputs": [
    {
     "data": {
      "text/plain": [
       "{'max_depth': 10, 'min_samples_leaf': 100}"
      ]
     },
     "execution_count": 100,
     "metadata": {},
     "output_type": "execute_result"
    }
   ],
   "source": [
    "tree = DecisionTreeRegressor()\n",
    "parameters = {\"max_depth\":[2, 10, 50, 100, 200], \"min_samples_leaf\":[1, 5, 10, 100, 1000]}\n",
    "gs_tree = GridSearchCV(tree,\n",
    "                      param_grid=parameters,\n",
    "                      scoring=\"neg_mean_squared_error\",\n",
    "                      cv=5)\n",
    "gs_tree.fit(X_train, y_train)\n",
    "gs_tree.best_params_"
   ]
  },
  {
   "cell_type": "code",
   "execution_count": 104,
   "metadata": {},
   "outputs": [
    {
     "name": "stdout",
     "output_type": "stream",
     "text": [
      "3039220.0369040035\n"
     ]
    }
   ],
   "source": [
    "tree = DecisionTreeRegressor(max_depth=10, min_samples_leaf=100)\n",
    "tree.fit(X_train, y_train)\n",
    "pred = tree.predict(X_test)\n",
    "print(mean_squared_error(pred, y_test)**0.5)"
   ]
  },
  {
   "cell_type": "markdown",
   "metadata": {},
   "source": [
    "За счет подбора параметров удалось значительно улучшить какчество"
   ]
  },
  {
   "cell_type": "markdown",
   "metadata": {},
   "source": [
    "### Случайный лес"
   ]
  },
  {
   "cell_type": "code",
   "execution_count": 109,
   "metadata": {},
   "outputs": [],
   "source": [
    "import multiprocessing\n",
    "from sklearn.ensemble import RandomForestRegressor\n",
    "workers = multiprocessing.cpu_count() - 1"
   ]
  },
  {
   "cell_type": "code",
   "execution_count": 118,
   "metadata": {},
   "outputs": [
    {
     "name": "stdout",
     "output_type": "stream",
     "text": [
      "2704279.3837902145\n"
     ]
    }
   ],
   "source": [
    "forest = RandomForestRegressor(n_jobs=workers)\n",
    "forest.fit(X_train, y_train)\n",
    "forest_pred = forest.predict(X_test)\n",
    "print(mean_squared_error(forest_pred, y_test)**0.5)"
   ]
  },
  {
   "cell_type": "markdown",
   "metadata": {},
   "source": [
    "Как видно лес с параметрами по-умолчанию справляется сильно лучше одного дерева, попробуем перебрать некоторые параметры"
   ]
  },
  {
   "cell_type": "code",
   "execution_count": 116,
   "metadata": {},
   "outputs": [
    {
     "data": {
      "text/plain": [
       "{'max_depth': 20,\n",
       " 'max_features': 'auto',\n",
       " 'max_samples': None,\n",
       " 'n_estimators': 200}"
      ]
     },
     "execution_count": 116,
     "metadata": {},
     "output_type": "execute_result"
    }
   ],
   "source": [
    "forest = RandomForestRegressor(min_samples_leaf=100, random_state=42, n_jobs=workers)\n",
    "parameters = {\"n_estimators\": [100, 200], \"max_depth\": [5, 10, 20], \"max_features\": [0.2, 0.333, \"sqrt\", \"auto\"], \"max_samples\": [0.1, 0.2, 0.5, None]}\n",
    "gs_forest = GridSearchCV(forest,\n",
    "                      param_grid=parameters,\n",
    "                      scoring=\"neg_mean_squared_error\",\n",
    "                      cv=5)\n",
    "gs_forest.fit(X_train, y_train)\n",
    "gs_forest.best_params_"
   ]
  },
  {
   "cell_type": "code",
   "execution_count": 117,
   "metadata": {},
   "outputs": [
    {
     "name": "stdout",
     "output_type": "stream",
     "text": [
      "2978504.8092333404\n"
     ]
    }
   ],
   "source": [
    "forest = RandomForestRegressor(max_depth=20, max_features=\"auto\", max_samples=None, n_estimators=200, min_samples_leaf=100, n_jobs=workers)\n",
    "forest.fit(X_train, y_train)\n",
    "forest_pred = forest.predict(X_test)\n",
    "print(mean_squared_error(forest_pred, y_test)**0.5)"
   ]
  },
  {
   "cell_type": "markdown",
   "metadata": {},
   "source": [
    "Как видно, среди параметров не оказалось, лучше тех, что по-умолчанию. Требуется более скрупулезный их перебор. В связи с довольно длительным обучением (и надвигающейся сессией) перебор был остановлен на этом."
   ]
  },
  {
   "cell_type": "markdown",
   "metadata": {},
   "source": [
    "### Бустинг"
   ]
  },
  {
   "cell_type": "code",
   "execution_count": 21,
   "metadata": {},
   "outputs": [
    {
     "name": "stdout",
     "output_type": "stream",
     "text": [
      "2593981.066253547\n"
     ]
    }
   ],
   "source": [
    "from catboost import CatBoostRegressor\n",
    "boost = CatBoostRegressor(loss_function=\"RMSE\", verbose=False)\n",
    "boost.fit(X_train, y_train)\n",
    "boost_pred = boost.predict(X_test)\n",
    "print(mean_squared_error(boost_pred, y_test)**0.5)"
   ]
  },
  {
   "cell_type": "markdown",
   "metadata": {},
   "source": [
    "Как видно catboost с параметрвами по-умолчанию справляется лучше предыдущих моделей."
   ]
  },
  {
   "cell_type": "code",
   "execution_count": null,
   "metadata": {},
   "outputs": [],
   "source": [
    "boost = CatBoostRegressor(loss_function=\"RMSE\", random_state=42, silent=True)\n",
    "parameters = {\"iterations\": [10, 20, 100, 200], \"learning_rate\": [0.02, 0.05, 0.1], \"depth\": [3, 5, 7]}\n",
    "result = boost.grid_search(parameters, X=X_train, y=y_train, plot=True, verbose=False)"
   ]
  },
  {
   "cell_type": "code",
   "execution_count": 28,
   "metadata": {},
   "outputs": [
    {
     "data": {
      "text/plain": [
       "{'depth': 7, 'iterations': 200, 'learning_rate': 0.1}"
      ]
     },
     "execution_count": 28,
     "metadata": {},
     "output_type": "execute_result"
    }
   ],
   "source": [
    "result[\"params\"]"
   ]
  },
  {
   "cell_type": "code",
   "execution_count": 29,
   "metadata": {},
   "outputs": [
    {
     "name": "stdout",
     "output_type": "stream",
     "text": [
      "2651675.1410435736\n"
     ]
    }
   ],
   "source": [
    "from catboost import CatBoostRegressor\n",
    "boost = CatBoostRegressor(loss_function=\"RMSE\", random_state=42, depth=7, iterations=200, learning_rate=0.1, verbose=False)\n",
    "boost.fit(X_train, y_train)\n",
    "boost_pred = boost.predict(X_test)\n",
    "print(mean_squared_error(boost_pred, y_test)**0.5)"
   ]
  },
  {
   "cell_type": "markdown",
   "metadata": {},
   "source": [
    "Ситуация аналогична лесу, требуется более скрупулезный перебор, на который нужно время..."
   ]
  },
  {
   "cell_type": "code",
   "execution_count": 30,
   "metadata": {},
   "outputs": [
    {
     "name": "stdout",
     "output_type": "stream",
     "text": [
      "2571387.9225949896\n"
     ]
    }
   ],
   "source": [
    "from catboost import CatBoostRegressor\n",
    "boost = CatBoostRegressor(loss_function=\"RMSE\", random_state=42, depth=7,\n",
    "                          iterations=500, learning_rate=0.15, verbose=False)\n",
    "boost.fit(X_train, y_train)\n",
    "boost_pred = boost.predict(X_test)\n",
    "print(mean_squared_error(boost_pred, y_test)**0.5)"
   ]
  },
  {
   "cell_type": "markdown",
   "metadata": {},
   "source": [
    "Методом научного тыка удалось немного улучшить параметры, результат превзошел модель \"из коробки\"."
   ]
  },
  {
   "cell_type": "markdown",
   "metadata": {
    "id": "JxQnozbtvD6x"
   },
   "source": [
    "### Ensemble v.1 (3 балла)\n",
    "\n",
    "Ансамбли иногда оказываются лучше чем одна большая модель.\n",
    "\n",
    "В колонке `product_type` содержится информация о том, каким является объявление: `Investment` (продажа квартиры как инвестиции) или `OwnerOccupier` (продажа квартиры для жилья). Логично предположить, что если сделать по модели на каждый из этих типов, то качество будет выше.\n",
    "\n",
    "Обучите свои лучшие модели на отдельно на `Investment` и `OwnerOccupier` (т.е. у вас будет `model_invest`, обученная на `(invest_train_X, invest_train_Y)` и `model_owner`, обученная на `(owner_train_X, owner_train_Y)`) и проверьте качество на отложенной выборке (т.е. на исходном `test_split`)."
   ]
  },
  {
   "cell_type": "code",
   "execution_count": null,
   "metadata": {
    "id": "HeJOCYa-O_VE"
   },
   "outputs": [],
   "source": [
    "X_train.loc[:, \"price\"] = y_train\n",
    "invest = X_train.loc[X_train[\"product_type_Investment\"] == 1, :]\n",
    "invest_X_train = invest.drop(columns=\"price\")\n",
    "invest_y_train = invest[\"price\"]\n",
    "owner = X_train.loc[X_train[\"product_type_OwnerOccupier\"] == 1, :]\n",
    "owner_X_train = owner.drop(columns=\"price\")\n",
    "owner_y_train = owner[\"price\"]"
   ]
  },
  {
   "cell_type": "code",
   "execution_count": 164,
   "metadata": {},
   "outputs": [],
   "source": [
    "boost_invest = CatBoostRegressor(loss_function=\"RMSE\", random_state=42, depth=7,\n",
    "                          iterations=500, learning_rate=0.15, verbose=False)\n",
    "boost_invest.fit(invest_X_train, invest_y_train)\n",
    "boost_invest_pred = boost_invest.predict(X_test[X_test[\"product_type_Investment\"] == 1])\n",
    "\n",
    "boost_owner = CatBoostRegressor(loss_function=\"RMSE\", random_state=42, depth=7,\n",
    "                          iterations=500, learning_rate=0.15, verbose=False)\n",
    "boost_owner.fit(owner_X_train, owner_y_train)\n",
    "boost_owner_pred = boost_owner.predict(X_test[X_test[\"product_type_OwnerOccupier\"] == 1])"
   ]
  },
  {
   "cell_type": "code",
   "execution_count": 181,
   "metadata": {},
   "outputs": [
    {
     "name": "stdout",
     "output_type": "stream",
     "text": [
      "2543698.88206796\n"
     ]
    }
   ],
   "source": [
    "boost_invest_pred_indexed = pd.Series(boost_invest_pred, index=X_test[X_test[\"product_type_Investment\"] == 1].index)\n",
    "boost_owner_pred_indexed = pd.Series(boost_owner_pred, index=X_test[X_test[\"product_type_OwnerOccupier\"] == 1].index)\n",
    "prediction = pd.concat((boost_invest_pred_indexed, boost_owner_pred_indexed))\n",
    "prediction = prediction[y_test.index]\n",
    "print(mean_squared_error(prediction, y_test)**0.5)"
   ]
  },
  {
   "cell_type": "markdown",
   "metadata": {},
   "source": [
    "Как видно, модели обученные на стратифицированных данных (следовательно, на выборкахх с меньшей дисперсией) показали себя лучше, чем одна модель"
   ]
  },
  {
   "cell_type": "markdown",
   "metadata": {
    "id": "J8t-klaK2A6s"
   },
   "source": [
    "### (*) Ensemble v.2 (дополнительно, 2 балла)\n",
    "\n",
    "Попробуйте сделать для `Investment` более сложную модель: обучите `CatBoostRegressor` и `HuberRegressor` из `sklearn`, а затем сложите их предсказания с весами `w_1` и `w_2` (выберите веса сами; сумма весов равняется 1)."
   ]
  },
  {
   "cell_type": "code",
   "execution_count": 211,
   "metadata": {},
   "outputs": [],
   "source": [
    "from sklearn.linear_model import HuberRegressor\n",
    "huber = HuberRegressor(max_iter=3000).fit(X=invest_X_train, y=invest_y_train)\n",
    "huber_pred = huber.predict(X_test[X_test[\"product_type_Investment\"] == 1])"
   ]
  },
  {
   "cell_type": "code",
   "execution_count": 212,
   "metadata": {
    "id": "JOKD-l8HuOgM"
   },
   "outputs": [
    {
     "name": "stdout",
     "output_type": "stream",
     "text": [
      "3002620.874375416\n",
      "8355234.900689829\n",
      "15927970.612124339\n",
      "23678822.28575164\n",
      "31476484.576652482\n",
      "39293098.84970635\n",
      "47119234.2103081\n",
      "54950822.80879392\n",
      "62785824.049745336\n",
      "70623102.13586074\n",
      "78461974.79303826\n"
     ]
    }
   ],
   "source": [
    "rmses = []\n",
    "for huber_w in np.arange(0, 1.1, 0.1):\n",
    "    boost_w = 1 - huber_w\n",
    "    total_pred = huber_pred * huber_w + boost_invest_pred * boost_w\n",
    "    y_test_invest = y_test[X_test[\"product_type_Investment\"] == 1]\n",
    "    y_test_invest = y_test_invest[X_test[X_test[\"product_type_Investment\"] == 1].index]\n",
    "    rmse = mean_squared_error(total_pred, y_test_invest)**0.5\n",
    "    print(rmse)\n",
    "    rmses.append(rmse)"
   ]
  },
  {
   "cell_type": "markdown",
   "metadata": {},
   "source": [
    "Huber regression - линейная модель с повышенной устойчивочтью к выбросам. Как видно, она катастрофически плохо описывает данные. Вероятнее всего необходим другой подход к подготовке данных, feature engineering."
   ]
  }
 ],
 "metadata": {
  "colab": {
   "collapsed_sections": [],
   "name": "Task.ipynb",
   "provenance": []
  },
  "kernelspec": {
   "display_name": "Python 3 (ipykernel)",
   "language": "python",
   "name": "python3"
  },
  "language_info": {
   "codemirror_mode": {
    "name": "ipython",
    "version": 3
   },
   "file_extension": ".py",
   "mimetype": "text/x-python",
   "name": "python",
   "nbconvert_exporter": "python",
   "pygments_lexer": "ipython3",
   "version": "3.8.10"
  }
 },
 "nbformat": 4,
 "nbformat_minor": 1
}
